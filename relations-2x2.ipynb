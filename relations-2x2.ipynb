{
 "cells": [
  {
   "cell_type": "code",
   "execution_count": 1,
   "metadata": {},
   "outputs": [],
   "source": [
    "import pandas as pd\n",
    "import numpy as np\n",
    "import matplotlib.pyplot as plt"
   ]
  },
  {
   "cell_type": "code",
   "execution_count": 2,
   "metadata": {},
   "outputs": [],
   "source": [
    "df = pd.read_csv('dataset/alexa.com_site_info.csv')"
   ]
  },
  {
   "cell_type": "code",
   "execution_count": 3,
   "metadata": {},
   "outputs": [],
   "source": [
    "df = df.dropna()"
   ]
  },
  {
   "cell_type": "code",
   "execution_count": 4,
   "metadata": {},
   "outputs": [
    {
     "data": {
      "text/plain": [
       "Index(['site link', 'category',\n",
       "       'keyword_opportunities_breakdown_optimization_opportunities',\n",
       "       'keyword_opportunities_breakdown_keyword_gaps',\n",
       "       'keyword_opportunities_breakdown_easy_to_rank_keywords',\n",
       "       'keyword_opportunities_breakdown_buyer_keywords',\n",
       "       'all_topics_keyword_gaps_name_parameter_1',\n",
       "       'all_topics_keyword_gaps_name_parameter_2',\n",
       "       'all_topics_keyword_gaps_name_parameter_3',\n",
       "       'all_topics_keyword_gaps_name_parameter_4',\n",
       "       'all_topics_keyword_gaps_Avg_traffic_parameter_1',\n",
       "       'all_topics_keyword_gaps_Avg_traffic_parameter_2',\n",
       "       'all_topics_keyword_gaps_Avg_traffic_parameter_3',\n",
       "       'all_topics_keyword_gaps_Avg_traffic_parameter_4',\n",
       "       'all_topics_keyword_gaps_search_popularity_parameter_1',\n",
       "       'all_topics_keyword_gaps_search_popularity_parameter_2',\n",
       "       'all_topics_keyword_gaps_search_popularity_parameter_3',\n",
       "       'all_topics_keyword_gaps_search_popularity_parameter_4',\n",
       "       'all_topics_easy_to_rank_keywords_name_parameter_1',\n",
       "       'all_topics_easy_to_rank_keywords_name_parameter_2',\n",
       "       'all_topics_easy_to_rank_keywords_name_parameter_3',\n",
       "       'all_topics_easy_to_rank_keywords_name_parameter_4',\n",
       "       'all_topics_easy_to_rank_keywords_relevance_to_site_parameter_1',\n",
       "       'all_topics_easy_to_rank_keywords_relevance_to_site_parameter_2',\n",
       "       'all_topics_easy_to_rank_keywords_relevance_to_site_parameter_3',\n",
       "       'all_topics_easy_to_rank_keywords_relevance_to_site_parameter_4',\n",
       "       'all_topics_easy_to_rank_keywords_search_pop_parameter_1',\n",
       "       'all_topics_easy_to_rank_keywords_search_pop_parameter_2',\n",
       "       'all_topics_easy_to_rank_keywords_search_pop_parameter_3',\n",
       "       'all_topics_easy_to_rank_keywords_search_pop_parameter_4',\n",
       "       'all_topics_buyer_keywords_name_parameter_1',\n",
       "       'all_topics_buyer_keywords_name_parameter_2',\n",
       "       'all_topics_buyer_keywords_name_parameter_3',\n",
       "       'all_topics_buyer_keywords_name_parameter_4',\n",
       "       'all_topics_buyer_keywords_Avg_traffic_parameter_1',\n",
       "       'all_topics_buyer_keywords_Avg_traffic_parameter_2',\n",
       "       'all_topics_buyer_keywords_Avg_traffic_parameter_3',\n",
       "       'all_topics_buyer_keywords_Avg_traffic_parameter_4',\n",
       "       'all_topics_buyer_keywords_organic_competition_parameter_1',\n",
       "       'all_topics_buyer_keywords_organic_competition_parameter_2',\n",
       "       'all_topics_buyer_keywords_organic_competition_parameter_3',\n",
       "       'all_topics_buyer_keywords_organic_competition_parameter_4',\n",
       "       'all_topics_optimization_opportunities_name_parameter_1',\n",
       "       'all_topics_optimization_opportunities_name_parameter_2',\n",
       "       'all_topics_optimization_opportunities_name_parameter_3',\n",
       "       'all_topics_optimization_opportunities_name_parameter_4',\n",
       "       'all_topics_optimization_opportunities_search_pop_parameter_1',\n",
       "       'all_topics_optimization_opportunities_search_pop_parameter_2',\n",
       "       'all_topics_optimization_opportunities_search_pop_parameter_3',\n",
       "       'all_topics_optimization_opportunities_search_pop_parameter_4',\n",
       "       'all_topics_optimization_opportunities_organic_share_of_voice_parameter_1',\n",
       "       'all_topics_optimization_opportunities_organic_share_of_voice_parameter_2',\n",
       "       'all_topics_optimization_opportunities_organic_share_of_voice_parameter_3',\n",
       "       'all_topics_optimization_opportunities_organic_share_of_voice_parameter_4',\n",
       "       'all_topics_top_keywords_name_parameter_1',\n",
       "       'all_topics_top_keywords_name_parameter_2',\n",
       "       'all_topics_top_keywords_name_parameter_3',\n",
       "       'all_topics_top_keywords_name_parameter_4',\n",
       "       'all_topics_top_keywords_search_traffic_parameter_1',\n",
       "       'all_topics_top_keywords_search_traffic_parameter_2',\n",
       "       'all_topics_top_keywords_search_traffic_parameter_3',\n",
       "       'all_topics_top_keywords_search_traffic_parameter_4',\n",
       "       'all_topics_top_keywords_share_of_voice_parameter_1_percentage',\n",
       "       'all_topics_top_keywords_share_of_voice_parameter_2_percentage',\n",
       "       'all_topics_top_keywords_share_of_voice_parameter_3_percentage',\n",
       "       'all_topics_top_keywords_share_of_voice_parameter_4_percentage',\n",
       "       'comparison_metrics_search_traffic_this_site_percentage',\n",
       "       'comparison_metrics_search_traffic_Comp Avg_percentage',\n",
       "       'comparison_metrics_data_bounce_rate_this_site_percentage',\n",
       "       'comparison_metrics_data_bounce_rate_comp_avg_percentage',\n",
       "       'comparison_metrics_data_sites_linking_in_this_site_percentage',\n",
       "       'comparison_metrics_data_sites_linking_in_comp_avg_percentage',\n",
       "       'audience_overlap_sites_overlap_scores_parameter_1',\n",
       "       'audience_overlap_sites_overlap_scores_parameter_2',\n",
       "       'audience_overlap_sites_overlap_scores_parameter_3',\n",
       "       'audience_overlap_sites_overlap_scores_parameter_4',\n",
       "       'audience_overlap_sites_overlap_scores_parameter_5',\n",
       "       'audience_overlap_similar_sites_to_this_site_parameter_1',\n",
       "       'audience_overlap_similar_sites_to_this_site_parameter_2',\n",
       "       'audience_overlap_similar_sites_to_this_site_parameter_3',\n",
       "       'audience_overlap_similar_sites_to_this_site_parameter_4',\n",
       "       'audience_overlap_similar_sites_to_this_site_parameter_5',\n",
       "       'This_site_rank_in_global_internet_engagement', 'Daily_time_on_site'],\n",
       "      dtype='object')"
      ]
     },
     "execution_count": 4,
     "metadata": {},
     "output_type": "execute_result"
    }
   ],
   "source": [
    "df.columns"
   ]
  },
  {
   "cell_type": "code",
   "execution_count": 5,
   "metadata": {},
   "outputs": [],
   "source": [
    "cols3 = ['all_topics_easy_to_rank_keywords_search_pop_parameter_1',\n",
    "       'all_topics_easy_to_rank_keywords_search_pop_parameter_2',\n",
    "       'all_topics_easy_to_rank_keywords_search_pop_parameter_3',\n",
    "       'all_topics_easy_to_rank_keywords_search_pop_parameter_4']\n",
    "cols2 = ['all_topics_easy_to_rank_keywords_relevance_to_site_parameter_1',\n",
    "       'all_topics_easy_to_rank_keywords_relevance_to_site_parameter_2',\n",
    "       'all_topics_easy_to_rank_keywords_relevance_to_site_parameter_3',\n",
    "       'all_topics_easy_to_rank_keywords_relevance_to_site_parameter_4',]\n",
    "cols4 = ['all_topics_keyword_gaps_Avg_traffic_parameter_1',\n",
    "       'all_topics_keyword_gaps_Avg_traffic_parameter_2',\n",
    "       'all_topics_keyword_gaps_Avg_traffic_parameter_3',\n",
    "       'all_topics_keyword_gaps_Avg_traffic_parameter_4']\n",
    "cols5 = ['all_topics_keyword_gaps_search_popularity_parameter_1',\n",
    "       'all_topics_keyword_gaps_search_popularity_parameter_2',\n",
    "       'all_topics_keyword_gaps_search_popularity_parameter_3',\n",
    "       'all_topics_keyword_gaps_search_popularity_parameter_4']\n",
    "df.loc[:,'all_topics_easy_to_rank_relevance_to_site_average'] = df.loc[:, cols2].mean(axis=1)\n",
    "df.loc[:,'all_topics_easy_to_rank_keywords_search_pop_average'] = df.loc[:, cols3].mean(axis=1)\n",
    "df.loc[:,'all_topics_keyword_gaps_Avg_traffic_average'] = df.loc[:, cols4].mean(axis=1)\n",
    "df.loc[:,'all_topics_keyword_gaps_search_popularity_average'] = df.loc[:, cols5].mean(axis=1)"
   ]
  },
  {
   "cell_type": "code",
   "execution_count": 6,
   "metadata": {},
   "outputs": [
    {
     "data": {
      "image/png": "[encoded data removed]",
      "text/plain": [
       "<Figure size 432x288 with 1 Axes>"
      ]
     },
     "metadata": {
      "needs_background": "light"
     },
     "output_type": "display_data"
    }
   ],
   "source": [
    "plt.scatter(df['all_topics_keyword_gaps_Avg_traffic_average'].to_numpy(),\n",
    "           df['all_topics_keyword_gaps_search_popularity_average'].to_numpy())\n",
    "plt.show()"
   ]
  },
  {
   "cell_type": "code",
   "execution_count": 7,
   "metadata": {},
   "outputs": [],
   "source": [
    "from sklearn.cluster import OPTICS\n",
    "model = OPTICS(max_eps=3, min_samples=60)\n",
    "yhat = model.fit_predict(df[['all_topics_keyword_gaps_Avg_traffic_average', \n",
    "                              'all_topics_keyword_gaps_search_popularity_average']].to_numpy())\n",
    "clusters = np.unique(yhat)\n"
   ]
  },
  {
   "cell_type": "code",
   "execution_count": 8,
   "metadata": {},
   "outputs": [
    {
     "data": {
      "image/png": "[encoded data removed]",
      "text/plain": [
       "<Figure size 432x288 with 1 Axes>"
      ]
     },
     "metadata": {
      "needs_background": "light"
     },
     "output_type": "display_data"
    },
    {
     "data": {
      "text/plain": [
       "10"
      ]
     },
     "execution_count": 8,
     "metadata": {},
     "output_type": "execute_result"
    }
   ],
   "source": [
    "X = df[['all_topics_keyword_gaps_Avg_traffic_average', \n",
    "                              'all_topics_keyword_gaps_search_popularity_average']].to_numpy()\n",
    "for cluster in clusters:\n",
    "\t# get row indexes for samples with this cluster\n",
    "\trow_ix = np.where(yhat == cluster)\n",
    "\t# create scatter of these samples\n",
    "\tplt.scatter(X[row_ix, 0], X[row_ix, 1])\n",
    "# show the plot\n",
    "plt.show()\n",
    "len(clusters)"
   ]
  },
  {
   "cell_type": "code",
   "execution_count": 59,
   "metadata": {},
   "outputs": [
    {
     "data": {
      "text/plain": [
       "array([[28.75, 53.75],\n",
       "       [16.75, 52.  ],\n",
       "       [45.  , 64.  ]])"
      ]
     },
     "execution_count": 59,
     "metadata": {},
     "output_type": "execute_result"
    }
   ],
   "source": [
    "df[['all_topics_easy_to_rank_keywords_search_pop_average', \n",
    "                              'all_topics_easy_to_rank_relevance_to_site_average']].to_numpy()[[1,2,3]]"
   ]
  },
  {
   "cell_type": "code",
   "execution_count": 82,
   "metadata": {},
   "outputs": [
    {
     "ename": "KeyboardInterrupt",
     "evalue": "",
     "output_type": "error",
     "traceback": [
      "\u001b[0;31m---------------------------------------------------------------------------\u001b[0m",
      "\u001b[0;31mKeyboardInterrupt\u001b[0m                         Traceback (most recent call last)",
      "\u001b[0;32m<ipython-input-82-7868672f62db>\u001b[0m in \u001b[0;36m<module>\u001b[0;34m\u001b[0m\n\u001b[1;32m      2\u001b[0m \u001b[0mmodel\u001b[0m \u001b[0;34m=\u001b[0m \u001b[0mAffinityPropagation\u001b[0m\u001b[0;34m(\u001b[0m\u001b[0mdamping\u001b[0m\u001b[0;34m=\u001b[0m\u001b[0;36m0.9\u001b[0m\u001b[0;34m)\u001b[0m\u001b[0;34m\u001b[0m\u001b[0;34m\u001b[0m\u001b[0m\n\u001b[1;32m      3\u001b[0m \u001b[0;31m# fit the model\u001b[0m\u001b[0;34m\u001b[0m\u001b[0;34m\u001b[0m\u001b[0;34m\u001b[0m\u001b[0m\n\u001b[0;32m----> 4\u001b[0;31m \u001b[0mmodel\u001b[0m\u001b[0;34m.\u001b[0m\u001b[0mfit\u001b[0m\u001b[0;34m(\u001b[0m\u001b[0mX\u001b[0m\u001b[0;34m)\u001b[0m\u001b[0;34m\u001b[0m\u001b[0;34m\u001b[0m\u001b[0m\n\u001b[0m\u001b[1;32m      5\u001b[0m \u001b[0;31m# assign a cluster to each example\u001b[0m\u001b[0;34m\u001b[0m\u001b[0;34m\u001b[0m\u001b[0;34m\u001b[0m\u001b[0m\n\u001b[1;32m      6\u001b[0m \u001b[0myhat\u001b[0m \u001b[0;34m=\u001b[0m \u001b[0mmodel\u001b[0m\u001b[0;34m.\u001b[0m\u001b[0mpredict\u001b[0m\u001b[0;34m(\u001b[0m\u001b[0mX\u001b[0m\u001b[0;34m)\u001b[0m\u001b[0;34m\u001b[0m\u001b[0;34m\u001b[0m\u001b[0m\n",
      "\u001b[0;32m~/.local/lib/python3.6/site-packages/sklearn/cluster/_affinity_propagation.py\u001b[0m in \u001b[0;36mfit\u001b[0;34m(self, X, y)\u001b[0m\n\u001b[1;32m    389\u001b[0m                 \u001b[0mself\u001b[0m\u001b[0;34m.\u001b[0m\u001b[0maffinity_matrix_\u001b[0m\u001b[0;34m,\u001b[0m \u001b[0mself\u001b[0m\u001b[0;34m.\u001b[0m\u001b[0mpreference\u001b[0m\u001b[0;34m,\u001b[0m \u001b[0mmax_iter\u001b[0m\u001b[0;34m=\u001b[0m\u001b[0mself\u001b[0m\u001b[0;34m.\u001b[0m\u001b[0mmax_iter\u001b[0m\u001b[0;34m,\u001b[0m\u001b[0;34m\u001b[0m\u001b[0;34m\u001b[0m\u001b[0m\n\u001b[1;32m    390\u001b[0m                 \u001b[0mconvergence_iter\u001b[0m\u001b[0;34m=\u001b[0m\u001b[0mself\u001b[0m\u001b[0;34m.\u001b[0m\u001b[0mconvergence_iter\u001b[0m\u001b[0;34m,\u001b[0m \u001b[0mdamping\u001b[0m\u001b[0;34m=\u001b[0m\u001b[0mself\u001b[0m\u001b[0;34m.\u001b[0m\u001b[0mdamping\u001b[0m\u001b[0;34m,\u001b[0m\u001b[0;34m\u001b[0m\u001b[0;34m\u001b[0m\u001b[0m\n\u001b[0;32m--> 391\u001b[0;31m                 copy=self.copy, verbose=self.verbose, return_n_iter=True)\n\u001b[0m\u001b[1;32m    392\u001b[0m \u001b[0;34m\u001b[0m\u001b[0m\n\u001b[1;32m    393\u001b[0m         \u001b[0;32mif\u001b[0m \u001b[0mself\u001b[0m\u001b[0;34m.\u001b[0m\u001b[0maffinity\u001b[0m \u001b[0;34m!=\u001b[0m \u001b[0;34m\"precomputed\"\u001b[0m\u001b[0;34m:\u001b[0m\u001b[0;34m\u001b[0m\u001b[0;34m\u001b[0m\u001b[0m\n",
      "\u001b[0;32m~/.local/lib/python3.6/site-packages/sklearn/cluster/_affinity_propagation.py\u001b[0m in \u001b[0;36maffinity_propagation\u001b[0;34m(S, preference, convergence_iter, max_iter, damping, copy, verbose, return_n_iter)\u001b[0m\n\u001b[1;32m    183\u001b[0m         \u001b[0mtmp\u001b[0m \u001b[0;34m*=\u001b[0m \u001b[0;36m1\u001b[0m \u001b[0;34m-\u001b[0m \u001b[0mdamping\u001b[0m\u001b[0;34m\u001b[0m\u001b[0;34m\u001b[0m\u001b[0m\n\u001b[1;32m    184\u001b[0m         \u001b[0mA\u001b[0m \u001b[0;34m*=\u001b[0m \u001b[0mdamping\u001b[0m\u001b[0;34m\u001b[0m\u001b[0;34m\u001b[0m\u001b[0m\n\u001b[0;32m--> 185\u001b[0;31m         \u001b[0mA\u001b[0m \u001b[0;34m-=\u001b[0m \u001b[0mtmp\u001b[0m\u001b[0;34m\u001b[0m\u001b[0;34m\u001b[0m\u001b[0m\n\u001b[0m\u001b[1;32m    186\u001b[0m \u001b[0;34m\u001b[0m\u001b[0m\n\u001b[1;32m    187\u001b[0m         \u001b[0;31m# Check for convergence\u001b[0m\u001b[0;34m\u001b[0m\u001b[0;34m\u001b[0m\u001b[0;34m\u001b[0m\u001b[0m\n",
      "\u001b[0;31mKeyboardInterrupt\u001b[0m: "
     ]
    }
   ],
   "source": [
    "from sklearn.cluster import AffinityPropagation\n",
    "model = AffinityPropagation(damping=0.9)\n",
    "# fit the model\n",
    "model.fit(X)\n",
    "# assign a cluster to each example\n",
    "yhat = model.predict(X)\n",
    "# retrieve unique clusters\n",
    "clusters = unique(yhat)\n",
    "# create scatter plot for samples from each cluster\n",
    "for cluster in clusters:\n",
    "\t# get row indexes for samples with this cluster\n",
    "\trow_ix = where(yhat == cluster)\n",
    "\t# create scatter of these samples\n",
    "\tplt.scatter(X[row_ix, 0], X[row_ix, 1])\n",
    "# show the plot\n",
    "plt.show()"
   ]
  },
  {
   "cell_type": "code",
   "execution_count": null,
   "metadata": {},
   "outputs": [],
   "source": []
  }
 ],
 "metadata": {
  "kernelspec": {
   "display_name": "Python 3",
   "language": "python",
   "name": "python3"
  },
  "language_info": {
   "codemirror_mode": {
    "name": "ipython",
    "version": 3
   },
   "file_extension": ".py",
   "mimetype": "text/x-python",
   "name": "python",
   "nbconvert_exporter": "python",
   "pygments_lexer": "ipython3",
   "version": "3.6.9"
  }
 },
 "nbformat": 4,
 "nbformat_minor": 4
}
