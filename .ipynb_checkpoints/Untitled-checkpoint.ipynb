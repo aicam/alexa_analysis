{
 "cells": [
  {
   "cell_type": "code",
   "execution_count": 3,
   "metadata": {},
   "outputs": [],
   "source": [
    "import tensorflow as tf\n",
    "import pandas as pd"
   ]
  },
  {
   "cell_type": "code",
   "execution_count": 4,
   "metadata": {},
   "outputs": [],
   "source": [
    "df = pd.read_csv('alexa.com_site_info.csv')"
   ]
  },
  {
   "cell_type": "code",
   "execution_count": 5,
   "metadata": {},
   "outputs": [],
   "source": [
    "prediction_columns = ['all_topics_buyer_keywords_Avg_traffic_parameter_1', 'all_topics_buyer_keywords_Avg_traffic_parameter_2'\n",
    "                   , 'all_topics_buyer_keywords_Avg_traffic_parameter_3', 'all_topics_buyer_keywords_Avg_traffic_parameter_4']\n",
    "training_columns = ['all_topics_keyword_gaps_Avg_traffic_parameter_1', 'all_topics_keyword_gaps_Avg_traffic_parameter_2',\n",
    "                   'all_topics_keyword_gaps_Avg_traffic_parameter_3', 'all_topics_keyword_gaps_Avg_traffic_parameter_4',\n",
    "                   'keyword_opportunities_breakdown_keyword_gaps', 'keyword_opportunities_breakdown_easy_to_rank_keywords']"
   ]
  },
  {
   "cell_type": "code",
   "execution_count": 6,
   "metadata": {},
   "outputs": [],
   "source": [
    "train_size = 1500"
   ]
  },
  {
   "cell_type": "code",
   "execution_count": null,
   "metadata": {},
   "outputs": [],
   "source": [
    "X_train = df[training_columns][:train_size]\n",
    "Y_train = df[prediction_columns][:train_size]\n"
   ]
  }
 ],
 "metadata": {
  "kernelspec": {
   "display_name": "Python 3",
   "language": "python",
   "name": "python3"
  },
  "language_info": {
   "codemirror_mode": {
    "name": "ipython",
    "version": 3
   },
   "file_extension": ".py",
   "mimetype": "text/x-python",
   "name": "python",
   "nbconvert_exporter": "python",
   "pygments_lexer": "ipython3",
   "version": "3.6.8"
  }
 },
 "nbformat": 4,
 "nbformat_minor": 4
}
